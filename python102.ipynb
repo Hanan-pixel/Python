{
  "cells": [
    {
      "cell_type": "markdown",
      "metadata": {
        "id": "view-in-github",
        "colab_type": "text"
      },
      "source": [
        "<a href=\"https://colab.research.google.com/github/Hanan-pixel/Python/blob/main/python102.ipynb\" target=\"_parent\"><img src=\"https://colab.research.google.com/assets/colab-badge.svg\" alt=\"Open In Colab\"/></a>"
      ]
    },
    {
      "cell_type": "markdown",
      "id": "4575065b-f1e6-43b3-b1e7-09f20bfba717",
      "metadata": {
        "id": "4575065b-f1e6-43b3-b1e7-09f20bfba717"
      },
      "source": [
        "<div class=\"alert alert-block alert-danger\">\n",
        "  <h3> <span style=\"color: purple;\"> Python102 Concepts</h3>\n",
        "\n",
        "<b>1. History and numbers | Dates and Numbers </b>\n",
        "\n",
        "\n",
        "<b>2. Other types of data | Advanced Sequencing</b>\n",
        "\n",
        "\n",
        "<b> 3. Texts differently Advanced strings </b>\n",
        "\n",
        "<b> 4. In a different way Advanced menus </b>\n",
        "\n",
        "<b> 5. Functions other than | Advanced functions </b>\n",
        "\n",
        "</div>"
      ]
    },
    {
      "cell_type": "markdown",
      "id": "54150c89-a9f3-4567-98bd-470dcea15a18",
      "metadata": {
        "id": "54150c89-a9f3-4567-98bd-470dcea15a18"
      },
      "source": [
        "<div class=\"alert alert-block alert-info\">\n",
        "<b>1. History and numbers | Dates and Numbers </b>\n",
        "\n",
        "</div>"
      ]
    },
    {
      "cell_type": "code",
      "execution_count": null,
      "id": "141aa366-8409-4ec3-bdc8-cacf187e6281",
      "metadata": {
        "id": "141aa366-8409-4ec3-bdc8-cacf187e6281",
        "outputId": "40848c94-68ee-4f4b-bc5d-e6a5ec33e49e"
      },
      "outputs": [
        {
          "name": "stdout",
          "output_type": "stream",
          "text": [
            "Absolute value of -10 is 10\n"
          ]
        }
      ],
      "source": [
        "#1.1 Find the absolute value\n",
        "# Absolute value\n",
        "num = -10\n",
        "absolute_value = abs(num)\n",
        "print(f\"Absolute value of {num} is {absolute_value}\")\n"
      ]
    },
    {
      "cell_type": "code",
      "execution_count": null,
      "id": "7abdcbfc-6c4b-41a0-85bf-66ad59b469d9",
      "metadata": {
        "id": "7abdcbfc-6c4b-41a0-85bf-66ad59b469d9",
        "outputId": "5240411f-8d29-4af7-ce2f-2890534766ff"
      },
      "outputs": [
        {
          "name": "stdout",
          "output_type": "stream",
          "text": [
            "Number is negative\n"
          ]
        }
      ],
      "source": [
        "#2. 1 or number\n",
        "# Check if a number is positive, negative, or zero\n",
        "num = -5\n",
        "if num > 0:\n",
        "    print(\"Number is positive\")\n",
        "elif num < 0:\n",
        "    print(\"Number is negative\")\n",
        "else:\n",
        "    print(\"Number is zero\")\n"
      ]
    },
    {
      "cell_type": "code",
      "execution_count": null,
      "id": "cd095871-e862-462d-baa3-6e85615a65ed",
      "metadata": {
        "id": "cd095871-e862-462d-baa3-6e85615a65ed",
        "outputId": "77995b62-e6b4-456f-caec-b85f28378106"
      },
      "outputs": [
        {
          "name": "stdout",
          "output_type": "stream",
          "text": [
            "2 raised to the power of 3 is 8\n"
          ]
        }
      ],
      "source": [
        "#3.1 Raising to the exponent\n",
        "# Exponentiation\n",
        "base = 2\n",
        "exponent = 3\n",
        "result = base ** exponent\n",
        "print(f\"{base} raised to the power of {exponent} is {result}\")\n"
      ]
    },
    {
      "cell_type": "code",
      "execution_count": null,
      "id": "1a1a283a-6a26-45a5-82c3-cc9eb2412aac",
      "metadata": {
        "id": "1a1a283a-6a26-45a5-82c3-cc9eb2412aac",
        "outputId": "13f216d1-61b2-43e7-9197-c15bf7127dcb"
      },
      "outputs": [
        {
          "name": "stdout",
          "output_type": "stream",
          "text": [
            "10 is greater than 5\n"
          ]
        }
      ],
      "source": [
        "#4. 1 Reasons for greater and lesser value\n",
        "# Comparing two numbers\n",
        "a = 10\n",
        "b = 5\n",
        "\n",
        "if a > b:\n",
        "    print(f\"{a} is greater than {b}\")\n",
        "else:\n",
        "    print(f\"{b} is greater than or equal to {a}\")\n"
      ]
    },
    {
      "cell_type": "code",
      "execution_count": null,
      "id": "e643d58f-363b-4ab0-9f5b-bb5a0e22ee71",
      "metadata": {
        "id": "e643d58f-363b-4ab0-9f5b-bb5a0e22ee71",
        "outputId": "cc031c14-7801-459d-f633-dfbe576ea5c3"
      },
      "outputs": [
        {
          "name": "stdout",
          "output_type": "stream",
          "text": [
            "Union of set A and set B: {1, 2, 3, 4, 5}\n"
          ]
        }
      ],
      "source": [
        "#5. 1 set of numbers\n",
        "# Set operations\n",
        "set_a = {1, 2, 3}\n",
        "set_b = {3, 4, 5}\n",
        "\n",
        "union_set = set_a.union(set_b)\n",
        "print(f\"Union of set A and set B: {union_set}\")"
      ]
    },
    {
      "cell_type": "code",
      "execution_count": null,
      "id": "79dd2ac8-8c4b-4df0-b52c-950ef1e55980",
      "metadata": {
        "id": "79dd2ac8-8c4b-4df0-b52c-950ef1e55980",
        "outputId": "d1fa09a0-c806-4153-8021-61d8a197c789"
      },
      "outputs": [
        {
          "name": "stdout",
          "output_type": "stream",
          "text": [
            "Quadratic roots: (2.0, 1.0)\n"
          ]
        }
      ],
      "source": [
        "#6.1 Response to desire quadratic\n",
        "\n",
        "# Quadratic equation roots\n",
        "import math\n",
        "\n",
        "def quadratic_roots(a, b, c):\n",
        "    discriminant = b**2 - 4*a*c\n",
        "\n",
        "    if discriminant > 0:\n",
        "        root1 = (-b + math.sqrt(discriminant)) / (2*a)\n",
        "        root2 = (-b - math.sqrt(discriminant)) / (2*a)\n",
        "        return root1, root2\n",
        "    elif discriminant == 0:\n",
        "        root = -b / (2*a)\n",
        "        return root, root\n",
        "    else:\n",
        "        return \"No real roots\"\n",
        "\n",
        "# Example usage:\n",
        "roots = quadratic_roots(1, -3, 2)\n",
        "print(f\"Quadratic roots: {roots}\")"
      ]
    },
    {
      "cell_type": "code",
      "execution_count": null,
      "id": "8b06b061-6f45-48cf-be6a-123db442b1b6",
      "metadata": {
        "id": "8b06b061-6f45-48cf-be6a-123db442b1b6",
        "outputId": "c76c7f9f-e963-4556-aefa-4e105bd667d6"
      },
      "outputs": [
        {
          "name": "stdout",
          "output_type": "stream",
          "text": [
            "Remainder of 10 divided by 3 is 1\n"
          ]
        }
      ],
      "source": [
        "#7.1 The rest of the language\n",
        "\n",
        "# Modulus operator\n",
        "a = 10\n",
        "b = 3\n",
        "remainder = a % b\n",
        "print(f\"Remainder of {a} divided by {b} is {remainder}\")"
      ]
    },
    {
      "cell_type": "code",
      "execution_count": null,
      "id": "2272796a-476d-4f18-a879-f388d9dc877e",
      "metadata": {
        "id": "2272796a-476d-4f18-a879-f388d9dc877e",
        "outputId": "42279c6b-ad76-46a0-f744-1cf7f96e0a8a"
      },
      "outputs": [
        {
          "name": "stdout",
          "output_type": "stream",
          "text": [
            "Formatted number: 12,345.68\n"
          ]
        }
      ],
      "source": [
        "#8. 1 urgent reason\n",
        "\n",
        "# Format numbers\n",
        "number = 12345.6789\n",
        "formatted_number = \"{:,.2f}\".format(number)\n",
        "print(f\"Formatted number: {formatted_number}\")"
      ]
    },
    {
      "cell_type": "code",
      "execution_count": null,
      "id": "bd4f9c8b-b158-4473-a930-ee816e1f382e",
      "metadata": {
        "id": "bd4f9c8b-b158-4473-a930-ee816e1f382e",
        "outputId": "4359b043-947b-40cd-d5a4-415bd1c78201"
      },
      "outputs": [
        {
          "name": "stdout",
          "output_type": "stream",
          "text": [
            "Today's date: 2024-06-22\n"
          ]
        }
      ],
      "source": [
        "#9.1 Create history\n",
        "\n",
        "# Creating a date object\n",
        "from datetime import date\n",
        "\n",
        "today = date.today()\n",
        "print(f\"Today's date: {today}\")"
      ]
    },
    {
      "cell_type": "code",
      "execution_count": null,
      "id": "ca1ae990-95b2-462d-b557-f2060db71f55",
      "metadata": {
        "id": "ca1ae990-95b2-462d-b557-f2060db71f55",
        "outputId": "f04ea3ce-bb9f-4f1a-d09c-fc5a95f04fc2"
      },
      "outputs": [
        {
          "name": "stdout",
          "output_type": "stream",
          "text": [
            "Time created: 12:30:45\n"
          ]
        }
      ],
      "source": [
        "#10. 1 Create time\n",
        "\n",
        "# Creating a time object\n",
        "from datetime import time\n",
        "\n",
        "t = time(12, 30, 45)\n",
        "print(f\"Time created: {t}\")"
      ]
    },
    {
      "cell_type": "code",
      "execution_count": null,
      "id": "efb582ec-28ed-4004-86d8-dd90d42c83ad",
      "metadata": {
        "id": "efb582ec-28ed-4004-86d8-dd90d42c83ad",
        "outputId": "62c8f63f-72c9-48c9-8fc6-84448e552e27"
      },
      "outputs": [
        {
          "name": "stdout",
          "output_type": "stream",
          "text": [
            "Current time: 2024-06-22 13:18:10.249296\n"
          ]
        }
      ],
      "source": [
        "#11.1 Find out the current time\n",
        "\n",
        "# Finding current time\n",
        "from datetime import datetime\n",
        "\n",
        "now = datetime.now()\n",
        "print(f\"Current time: {now}\")"
      ]
    },
    {
      "cell_type": "code",
      "execution_count": null,
      "id": "aa09a70c-97ee-4fcb-8679-b68d3f083159",
      "metadata": {
        "id": "aa09a70c-97ee-4fcb-8679-b68d3f083159",
        "outputId": "296439a4-02f0-4fce-964f-c7f57a81cdab"
      },
      "outputs": [
        {
          "name": "stdout",
          "output_type": "stream",
          "text": [
            "Date as string: 2024-06-22\n"
          ]
        }
      ],
      "source": [
        "#12.1 Converting history into text\n",
        "\n",
        "# Converting date to string\n",
        "date_string = today.strftime(\"%Y-%m-%d\")\n",
        "print(f\"Date as string: {date_string}\")"
      ]
    },
    {
      "cell_type": "markdown",
      "id": "8b1154de-27dd-43c1-967b-360721713e82",
      "metadata": {
        "id": "8b1154de-27dd-43c1-967b-360721713e82"
      },
      "source": [
        "<div class=\"alert alert-block alert-info\">\n",
        "\n",
        "<b>2. Other types of data | Advanced Sequencing</b>\n",
        "</div>"
      ]
    },
    {
      "cell_type": "code",
      "execution_count": null,
      "id": "34944d8b-a749-4ef6-b050-d0302b8f62d4",
      "metadata": {
        "id": "34944d8b-a749-4ef6-b050-d0302b8f62d4",
        "outputId": "609d9d50-948e-4fc7-97f8-e723ad932711"
      },
      "outputs": [
        {
          "name": "stdout",
          "output_type": "stream",
          "text": [
            "First character: P, Last character: n\n"
          ]
        }
      ],
      "source": [
        "#1.2 The concept of indexing\n",
        "\n",
        "# Indexing in strings\n",
        "text = \"Python\"\n",
        "print(f\"First character: {text[0]}, Last character: {text[-1]}\")"
      ]
    },
    {
      "cell_type": "code",
      "execution_count": null,
      "id": "6a5c0a38-3da0-4155-aeaf-ae7509206fc5",
      "metadata": {
        "id": "6a5c0a38-3da0-4155-aeaf-ae7509206fc5",
        "outputId": "4ba0a5e5-99fa-4fcf-e515-db27ec66d880"
      },
      "outputs": [
        {
          "name": "stdout",
          "output_type": "stream",
          "text": [
            "First five characters: Hello\n"
          ]
        }
      ],
      "source": [
        "#2.2 The concept of slicing\n",
        "\n",
        "# Slicing strings\n",
        "text = \"Hello, World!\"\n",
        "print(f\"First five characters: {text[:5]}\")"
      ]
    },
    {
      "cell_type": "code",
      "execution_count": null,
      "id": "0d119b3f-04eb-4875-9b1c-89bd64f4f1e3",
      "metadata": {
        "id": "0d119b3f-04eb-4875-9b1c-89bd64f4f1e3",
        "outputId": "0f042785-d0dc-483d-cf66-d957895da5dd"
      },
      "outputs": [
        {
          "name": "stdout",
          "output_type": "stream",
          "text": [
            "Every second number: [1, 3, 5, 7, 9]\n"
          ]
        }
      ],
      "source": [
        "#3. 2 The concept of slicing, part two\n",
        "\n",
        "# Slicing with step\n",
        "numbers = [1, 2, 3, 4, 5, 6, 7, 8, 9, 10]\n",
        "print(f\"Every second number: {numbers[::2]}\")"
      ]
    },
    {
      "cell_type": "code",
      "execution_count": null,
      "id": "f59d0bda-da33-4262-bb7d-c7320d4d85c6",
      "metadata": {
        "id": "f59d0bda-da33-4262-bb7d-c7320d4d85c6",
        "outputId": "8d553a6d-0cdf-4dc9-83dc-b02145ef5884"
      },
      "outputs": [
        {
          "name": "stdout",
          "output_type": "stream",
          "text": [
            "Length of text: 6\n"
          ]
        }
      ],
      "source": [
        "#4. 2 segment function\n",
        "\n",
        "# len() function\n",
        "text = \"Python\"\n",
        "print(f\"Length of text: {len(text)}\")"
      ]
    },
    {
      "cell_type": "code",
      "execution_count": null,
      "id": "1c3dd554-a8f0-4931-bd50-bba31edf187b",
      "metadata": {
        "id": "1c3dd554-a8f0-4931-bd50-bba31edf187b",
        "outputId": "dbe783b1-2138-4029-998f-fd17769c05b2"
      },
      "outputs": [
        {
          "name": "stdout",
          "output_type": "stream",
          "text": [
            "List A: [1, 2, 3, 4], List B: [1, 2, 3, 4]\n"
          ]
        }
      ],
      "source": [
        "#5. 2 function pointer\n",
        "\n",
        "# Using pointers in lists\n",
        "list_a = [1, 2, 3]\n",
        "list_b = list_a\n",
        "list_b.append(4)\n",
        "print(f\"List A: {list_a}, List B: {list_b}\")"
      ]
    },
    {
      "cell_type": "code",
      "execution_count": null,
      "id": "6fb9beed-19d4-4b73-b91c-2e9b5321d1e4",
      "metadata": {
        "id": "6fb9beed-19d4-4b73-b91c-2e9b5321d1e4",
        "outputId": "f1c5e547-b4da-41ef-8f6c-437d0fc26b64"
      },
      "outputs": [
        {
          "name": "stdout",
          "output_type": "stream",
          "text": [
            "Minimum number: 1\n"
          ]
        }
      ],
      "source": [
        "#6.2 lin function\n",
        "\n",
        "# min() function\n",
        "numbers = [5, 2, 9, 1, 7]\n",
        "min_number = min(numbers)\n",
        "print(f\"Minimum number: {min_number}\")"
      ]
    },
    {
      "cell_type": "code",
      "execution_count": null,
      "id": "1bf377ab-f636-4a80-8430-06d65ee0cd7d",
      "metadata": {
        "id": "1bf377ab-f636-4a80-8430-06d65ee0cd7d",
        "outputId": "09e7408b-e4d3-48e9-80d9-6faa6c1dade5"
      },
      "outputs": [
        {
          "name": "stdout",
          "output_type": "stream",
          "text": [
            "Maximum number: 9\n"
          ]
        }
      ],
      "source": [
        "#7. 2 function\n",
        "\n",
        "# max() function\n",
        "numbers = [5, 2, 9, 1, 7]\n",
        "max_number = max(numbers)\n",
        "print(f\"Maximum number: {max_number}\")"
      ]
    },
    {
      "cell_type": "code",
      "execution_count": null,
      "id": "b8bed7e0-8fc5-4a31-9161-c7853849e107",
      "metadata": {
        "id": "b8bed7e0-8fc5-4a31-9161-c7853849e107",
        "outputId": "dc385b5d-390f-410d-e14e-3f0a4a81bc8a"
      },
      "outputs": [
        {
          "name": "stdout",
          "output_type": "stream",
          "text": [
            "Value at index 2 (with modulus): 30\n"
          ]
        }
      ],
      "source": [
        "#8. 2 modulus in\n",
        "\n",
        "# Using modulus with index\n",
        "numbers = [10, 20, 30, 40, 50]\n",
        "index = 2\n",
        "value = numbers[index % len(numbers)]\n",
        "print(f\"Value at index {index} (with modulus): {value}\")"
      ]
    },
    {
      "cell_type": "code",
      "execution_count": null,
      "id": "8feccb9d-0dc6-4bc8-b6e2-f3aeb7c267b2",
      "metadata": {
        "id": "8feccb9d-0dc6-4bc8-b6e2-f3aeb7c267b2",
        "outputId": "ccc01807-feb8-4d66-adfd-3ca43259eb9f"
      },
      "outputs": [
        {
          "name": "stdout",
          "output_type": "stream",
          "text": [
            "Merged list: [1, 2, 3, 4, 5, 6]\n"
          ]
        }
      ],
      "source": [
        "#9. 2 Merge and repeat\n",
        "\n",
        "# Concatenating lists\n",
        "list1 = [1, 2, 3]\n",
        "list2 = [4, 5, 6]\n",
        "merged_list = list1 + list2\n",
        "print(f\"Merged list: {merged_list}\")"
      ]
    },
    {
      "cell_type": "markdown",
      "id": "60af2ee0-c1bb-4a49-9aad-044d8258e3c1",
      "metadata": {
        "id": "60af2ee0-c1bb-4a49-9aad-044d8258e3c1"
      },
      "source": [
        "<div class=\"alert alert-block alert-info\">\n",
        "<b> 3. Texts differently Advanced strings </b>\n",
        "</div>"
      ]
    },
    {
      "cell_type": "code",
      "execution_count": null,
      "id": "005c99a5-69be-4426-93d0-3e0465a69cc8",
      "metadata": {
        "id": "005c99a5-69be-4426-93d0-3e0465a69cc8",
        "outputId": "5beecb1f-8031-4dc5-ad82-148a0427c7fe"
      },
      "outputs": [
        {
          "name": "stdout",
          "output_type": "stream",
          "text": [
            "Index of 'World': 7\n"
          ]
        }
      ],
      "source": [
        "#1.3 Search using the find function\n",
        "\n",
        "# Using find() function\n",
        "text = \"Hello, World!\"\n",
        "index = text.find(\"World\")\n",
        "print(f\"Index of 'World': {index}\")"
      ]
    },
    {
      "cell_type": "code",
      "execution_count": null,
      "id": "d446c2ff-b58d-4c2c-a2fe-d6084f41399c",
      "metadata": {
        "id": "d446c2ff-b58d-4c2c-a2fe-d6084f41399c",
        "outputId": "86cfe09b-e409-476c-be80-e3c5ecffbf94"
      },
      "outputs": [
        {
          "name": "stdout",
          "output_type": "stream",
          "text": [
            "List of characters: ['P', 'y', 't', 'h', 'o', 'n']\n"
          ]
        }
      ],
      "source": [
        "#2.3 Convert text to list\n",
        "\n",
        "# Converting string to list of characters\n",
        "text = \"Python\"\n",
        "char_list = list(text)\n",
        "print(f\"List of characters: {char_list}\")"
      ]
    },
    {
      "cell_type": "code",
      "execution_count": null,
      "id": "a4d10de6-bfc4-4ad5-bf2e-833810f8ed1a",
      "metadata": {
        "id": "a4d10de6-bfc4-4ad5-bf2e-833810f8ed1a",
        "outputId": "957f7882-f4d3-4d30-e81a-1cbeaaad5102"
      },
      "outputs": [
        {
          "name": "stdout",
          "output_type": "stream",
          "text": [
            "Text from list: Python\n"
          ]
        }
      ],
      "source": [
        "#3.3 Convert to text\n",
        "\n",
        "# Joining list into string\n",
        "char_list = ['P', 'y', 't', 'h', 'o', 'n']\n",
        "text = ''.join(char_list)\n",
        "print(f\"Text from list: {text}\")"
      ]
    },
    {
      "cell_type": "code",
      "execution_count": null,
      "id": "ecc3e89b-c180-4c6c-acc9-231ff6310843",
      "metadata": {
        "id": "ecc3e89b-c180-4c6c-acc9-231ff6310843",
        "outputId": "ddbf4679-be2e-42aa-ce6f-90242ae7f015"
      },
      "outputs": [
        {
          "name": "stdout",
          "output_type": "stream",
          "text": [
            "String contains only digits\n"
          ]
        }
      ],
      "source": [
        "#4.3 Verify the text\n",
        "\n",
        "# Checking if string contains only digits\n",
        "num_str = \"12345\"\n",
        "if num_str.isdigit():\n",
        "    print(\"String contains only digits\")\n",
        "else:\n",
        "    print(\"String contains non-digit characters\")"
      ]
    },
    {
      "cell_type": "code",
      "execution_count": null,
      "id": "958ed3b4-40ea-420b-b6a7-0155170b50ee",
      "metadata": {
        "id": "958ed3b4-40ea-420b-b6a7-0155170b50ee",
        "outputId": "128b5b6a-c8ed-4659-b3ef-ea9bada31c7f"
      },
      "outputs": [
        {
          "name": "stdout",
          "output_type": "stream",
          "text": [
            "Replaced text: Hello, Python!\n"
          ]
        }
      ],
      "source": [
        "#5. 3 function replace\n",
        "\n",
        "# Using replace() function\n",
        "text = \"Hello, World!\"\n",
        "new_text = text.replace(\"World\", \"Python\")\n",
        "print(f\"Replaced text: {new_text}\")"
      ]
    },
    {
      "cell_type": "code",
      "execution_count": null,
      "id": "a72ca739-168c-45aa-afa1-b93e3c51e85d",
      "metadata": {
        "id": "a72ca739-168c-45aa-afa1-b93e3c51e85d",
        "outputId": "74276472-1084-413b-cf6a-4965be1f7d3c"
      },
      "outputs": [
        {
          "name": "stdout",
          "output_type": "stream",
          "text": [
            "Stripped text: 'Python'\n"
          ]
        }
      ],
      "source": [
        "#6. 3 function bar\n",
        "\n",
        "# Using strip() function\n",
        "text = \"   Python   \"\n",
        "stripped_text = text.strip()\n",
        "print(f\"Stripped text: '{stripped_text}'\")"
      ]
    },
    {
      "cell_type": "code",
      "execution_count": null,
      "id": "465dea44-d092-405f-b523-fb56dde8f9aa",
      "metadata": {
        "id": "465dea44-d092-405f-b523-fb56dde8f9aa",
        "outputId": "deaf7840-eaeb-48f5-c832-cdcac6d48342"
      },
      "outputs": [
        {
          "name": "stdout",
          "output_type": "stream",
          "text": [
            "Count of 'Python': 2\n"
          ]
        }
      ],
      "source": [
        "#7. 3 documents in the text\n",
        "\n",
        "# Counting occurrences in string\n",
        "text = \"Python is easy and Python is fun\"\n",
        "count = text.count(\"Python\")\n",
        "print(f\"Count of 'Python': {count}\")"
      ]
    },
    {
      "cell_type": "code",
      "execution_count": null,
      "id": "cafdf2cf-9d80-48de-8178-553d4b25180d",
      "metadata": {
        "id": "cafdf2cf-9d80-48de-8178-553d4b25180d",
        "outputId": "8f58ba85-5ba5-4c51-cc13-5a2e24db7ce4"
      },
      "outputs": [
        {
          "name": "stdout",
          "output_type": "stream",
          "text": [
            "Raw text: C:\\Users\\Documents\n"
          ]
        }
      ],
      "source": [
        "#8. 3 Raw chain concept\n",
        "\n",
        "# Raw string concept\n",
        "raw_text = r\"C:\\Users\\Documents\"\n",
        "print(f\"Raw text: {raw_text}\")"
      ]
    },
    {
      "cell_type": "code",
      "execution_count": null,
      "id": "bd501159-3bbe-4f15-adcb-03b6f894143d",
      "metadata": {
        "id": "bd501159-3bbe-4f15-adcb-03b6f894143d",
        "outputId": "f3e88dbc-2e57-4ac5-abc2-f4dd5884f819"
      },
      "outputs": [
        {
          "name": "stdout",
          "output_type": "stream",
          "text": [
            "Name: Hanan, Age: 22\n"
          ]
        }
      ],
      "source": [
        "#9.3 Function format\n",
        "\n",
        "# Using format() function\n",
        "name = \"Hanan\"\n",
        "age = 22\n",
        "formatted_text = \"Name: {}, Age: {}\".format(name, age)\n",
        "print(formatted_text)"
      ]
    },
    {
      "cell_type": "markdown",
      "id": "c9167bdc-7f46-4f69-b0d3-abd4b6cb526f",
      "metadata": {
        "id": "c9167bdc-7f46-4f69-b0d3-abd4b6cb526f"
      },
      "source": [
        "<div class=\"alert alert-block alert-info\">\n",
        "<b> 4. In a different way Advanced menus </b>\n",
        "</div>"
      ]
    },
    {
      "cell_type": "code",
      "execution_count": null,
      "id": "3712d17d-a2fa-467b-b384-b494fb4bfb97",
      "metadata": {
        "id": "3712d17d-a2fa-467b-b384-b494fb4bfb97",
        "outputId": "64c8a748-4fbb-45f1-b9de-ecd405c7f80b"
      },
      "outputs": [
        {
          "name": "stdout",
          "output_type": "stream",
          "text": [
            "Element at row 2, column 3: 6\n"
          ]
        }
      ],
      "source": [
        "#1. 4 2D Fish | 2D lists\n",
        "\n",
        "# Accessing elements in 2D list\n",
        "matrix = [[1, 2, 3], [4, 5, 6], [7, 8, 9]]\n",
        "print(f\"Element at row 2, column 3: {matrix[1][2]}\")"
      ]
    },
    {
      "cell_type": "code",
      "execution_count": null,
      "id": "2ce786f4-8f07-4c12-83c0-7dafde900aa2",
      "metadata": {
        "id": "2ce786f4-8f07-4c12-83c0-7dafde900aa2",
        "outputId": "8a29377b-a9b3-4fe0-9b10-63235897b56f"
      },
      "outputs": [
        {
          "name": "stdout",
          "output_type": "stream",
          "text": [
            "Even numbers: [2, 4, 6, 8, 10]\n"
          ]
        }
      ],
      "source": [
        "#2.4 function filter\n",
        "\n",
        "# Using filter() function\n",
        "numbers = [1, 2, 3, 4, 5, 6, 7, 8, 9, 10]\n",
        "even_numbers = list(filter(lambda x: x % 2 == 0, numbers))\n",
        "print(f\"Even numbers: {even_numbers}\")"
      ]
    },
    {
      "cell_type": "code",
      "execution_count": null,
      "id": "aa26c5e8-8f36-4a2f-8106-0b3d5469d334",
      "metadata": {
        "id": "aa26c5e8-8f36-4a2f-8106-0b3d5469d334",
        "outputId": "542df222-ce98-4fa2-ffb7-9214de00d343"
      },
      "outputs": [
        {
          "name": "stdout",
          "output_type": "stream",
          "text": [
            "Squared numbers: [1, 4, 9, 16, 25]\n"
          ]
        }
      ],
      "source": [
        "#3.4 Function map\n",
        "\n",
        "# Using map() function\n",
        "numbers = [1, 2, 3, 4, 5]\n",
        "squared_numbers = list(map(lambda x: x ** 2, numbers))\n",
        "print(f\"Squared numbers: {squared_numbers}\")"
      ]
    },
    {
      "cell_type": "code",
      "execution_count": null,
      "id": "9ba0a955-4b52-4634-a190-f12b6727c535",
      "metadata": {
        "id": "9ba0a955-4b52-4634-a190-f12b6727c535",
        "outputId": "b2e25a00-db27-4a2b-ce83-456f6958e0a0"
      },
      "outputs": [
        {
          "name": "stdout",
          "output_type": "stream",
          "text": [
            "Sorted students by age: [('Amal', 18), ('Hanan', 22), ('Salman', 23)]\n"
          ]
        }
      ],
      "source": [
        "#4. 4 Sort function\n",
        "\n",
        "# Sorting list of tuples\n",
        "students = [(\"Hanan\", 22), (\"Amal\", 18), (\"Salman\", 23)]\n",
        "sorted_students = sorted(students, key=lambda x: x[1])\n",
        "print(f\"Sorted students by age: {sorted_students}\")"
      ]
    },
    {
      "cell_type": "code",
      "execution_count": null,
      "id": "67b19474-8c1d-44d5-8c01-a90b2c671458",
      "metadata": {
        "id": "67b19474-8c1d-44d5-8c01-a90b2c671458",
        "outputId": "9c9349dc-b3fb-4d63-e750-799ae2ce1747"
      },
      "outputs": [
        {
          "name": "stdout",
          "output_type": "stream",
          "text": [
            "Reversed numbers: [5, 4, 3, 2, 1]\n"
          ]
        }
      ],
      "source": [
        "#5. 4 The function is inverse\n",
        "\n",
        "# Reversing a list\n",
        "numbers = [1, 2, 3, 4, 5]\n",
        "reversed_numbers = numbers[::-1]\n",
        "print(f\"Reversed numbers: {reversed_numbers}\")"
      ]
    },
    {
      "cell_type": "code",
      "execution_count": null,
      "id": "13d98111-b167-4ba6-8149-6e176adca0d9",
      "metadata": {
        "id": "13d98111-b167-4ba6-8149-6e176adca0d9",
        "outputId": "54f3d5e5-5e3f-4455-f997-e4774e0a096b"
      },
      "outputs": [
        {
          "name": "stdout",
          "output_type": "stream",
          "text": [
            "Squared even numbers: [4, 16]\n"
          ]
        }
      ],
      "source": [
        "#6. 4 Comprehension list conceptpython\n",
        "# List comprehension\n",
        "numbers = [1, 2, 3, 4, 5]\n",
        "squared_even_numbers = [x**2 for x in numbers if x % 2 == 0]\n",
        "print(f\"Squared even numbers: {squared_even_numbers}\")\n"
      ]
    },
    {
      "cell_type": "markdown",
      "id": "505b97ed-3ff6-46b9-8bc2-fe93dd34012c",
      "metadata": {
        "id": "505b97ed-3ff6-46b9-8bc2-fe93dd34012c"
      },
      "source": [
        "<div class=\"alert alert-block alert-info\">\n",
        "<b> 5. Functions other than | Advanced functions </b>\n",
        "</div>"
      ]
    },
    {
      "cell_type": "code",
      "execution_count": null,
      "id": "66017fe2-21ec-4fe1-9a4d-9c89c236a828",
      "metadata": {
        "id": "66017fe2-21ec-4fe1-9a4d-9c89c236a828",
        "outputId": "0323749a-0c40-4f9c-8b3b-42a8268a1823"
      },
      "outputs": [
        {
          "name": "stdout",
          "output_type": "stream",
          "text": [
            "Hello, Amal! Welcome to Python!\n"
          ]
        }
      ],
      "source": [
        "#1.5 The concept of topical arguments\n",
        "\n",
        "# Positional arguments\n",
        "def greet(name, message):\n",
        "    print(f\"Hello, {name}! {message}\")\n",
        "\n",
        "greet(\"Amal\", \"Welcome to Python!\")"
      ]
    },
    {
      "cell_type": "code",
      "execution_count": null,
      "id": "7b66b174-1067-4d69-8d78-c4ef6eb082cc",
      "metadata": {
        "id": "7b66b174-1067-4d69-8d78-c4ef6eb082cc",
        "outputId": "1132cb05-374f-4bef-abea-e443c08c36e8"
      },
      "outputs": [
        {
          "name": "stdout",
          "output_type": "stream",
          "text": [
            "Hello, Sosi! Goodbye\n"
          ]
        }
      ],
      "source": [
        "#2. 5 Concept of Keyword Arguments\n",
        "\n",
        "# Keyword arguments\n",
        "def greet(name, message=\"Welcome\"):\n",
        "    print(f\"Hello, {name}! {message}\")\n",
        "\n",
        "greet(\"Sosi\", message=\"Goodbye\")"
      ]
    },
    {
      "cell_type": "code",
      "execution_count": null,
      "id": "7dae1c24-37ad-4295-95d0-5b0f69320b9b",
      "metadata": {
        "id": "7dae1c24-37ad-4295-95d0-5b0f69320b9b",
        "outputId": "1ab5c5d7-fc9c-4712-bafd-7570c69190c7"
      },
      "outputs": [
        {
          "name": "stdout",
          "output_type": "stream",
          "text": [
            "Hello, Charlie! Welcome\n"
          ]
        }
      ],
      "source": [
        "#3.5 Default parameter concept\n",
        "\n",
        "# Default parameters\n",
        "def greet(name, message=\"Welcome\"):\n",
        "    print(f\"Hello, {name}! {message}\")\n",
        "\n",
        "greet(\"Hanan\")"
      ]
    },
    {
      "cell_type": "code",
      "execution_count": null,
      "id": "3d639fbe-c2ce-467f-9d7d-123b8a1026cb",
      "metadata": {
        "id": "3d639fbe-c2ce-467f-9d7d-123b8a1026cb",
        "outputId": "b33e5f62-0887-40cf-c597-d74d817f6ee2"
      },
      "outputs": [
        {
          "name": "stdout",
          "output_type": "stream",
          "text": [
            "Hello, Hanan!\n",
            "Hello, Sosi!\n",
            "Hello, Amal!\n"
          ]
        }
      ],
      "source": [
        "#4.5 The concept of mobilizing arguments\n",
        "\n",
        "# Arbitrary arguments\n",
        "def greet(*names):\n",
        "    for name in names:\n",
        "        print(f\"Hello, {name}!\")\n",
        "\n",
        "greet(\"Hanan\", \"Sosi\", \"Amal\")"
      ]
    },
    {
      "cell_type": "code",
      "execution_count": null,
      "id": "5892e288-ecf0-45c4-be0a-6943b5c6a129",
      "metadata": {
        "id": "5892e288-ecf0-45c4-be0a-6943b5c6a129",
        "outputId": "d9e30db2-9aa2-46b8-9776-aef38bd24b3b"
      },
      "outputs": [
        {
          "name": "stdout",
          "output_type": "stream",
          "text": [
            "Hello, Hanan! Welcome to Python!\n"
          ]
        }
      ],
      "source": [
        "#5. 5 The concept of unpacking the argument\n",
        "\n",
        "# Unpacking arguments\n",
        "def greet(name, message):\n",
        "    print(f\"Hello, {name}! {message}\")\n",
        "\n",
        "params = (\"Hanan\", \"Welcome to Python!\")\n",
        "greet(*params)"
      ]
    },
    {
      "cell_type": "code",
      "execution_count": null,
      "id": "3242f8c3-64eb-4170-821b-5be4121a2e65",
      "metadata": {
        "id": "3242f8c3-64eb-4170-821b-5be4121a2e65",
        "outputId": "b4c4ccc4-7b44-464b-a563-b799738669be"
      },
      "outputs": [
        {
          "name": "stdout",
          "output_type": "stream",
          "text": [
            "Sum of numbers: 15\n"
          ]
        }
      ],
      "source": [
        "#6.5 Use of packing and unpacking\n",
        "\n",
        "# Packing and unpacking\n",
        "def add(*args):\n",
        "    return sum(args)\n",
        "\n",
        "numbers = [1, 2, 3, 4, 5]\n",
        "print(f\"Sum of numbers: {add(*numbers)}\")"
      ]
    },
    {
      "cell_type": "code",
      "execution_count": null,
      "id": "91686726-760c-4f61-9e44-42b2cd637464",
      "metadata": {
        "id": "91686726-760c-4f61-9e44-42b2cd637464",
        "outputId": "f553644f-ee67-4c5c-d1ba-3c02afb869fd"
      },
      "outputs": [
        {
          "name": "stdout",
          "output_type": "stream",
          "text": [
            "Name: Hanan, Age: 22\n"
          ]
        }
      ],
      "source": [
        "#7. 5 The concept of filling the dictionary\n",
        "\n",
        "# Dictionary unpacking\n",
        "def display_info(name, age):\n",
        "    print(f\"Name: {name}, Age: {age}\")\n",
        "\n",
        "info = {\"name\": \"Hanan\", \"age\": 22}\n",
        "display_info(**info)"
      ]
    },
    {
      "cell_type": "code",
      "execution_count": null,
      "id": "45de78c0-dc17-4875-90b9-8685518b6ac9",
      "metadata": {
        "id": "45de78c0-dc17-4875-90b9-8685518b6ac9",
        "outputId": "64141ff2-b098-4d48-a79f-c0453496c955"
      },
      "outputs": [
        {
          "name": "stdout",
          "output_type": "stream",
          "text": [
            "name: Hanan\n",
            "age: 22\n"
          ]
        }
      ],
      "source": [
        "#8.5 The concept of dictionary emptying\n",
        "\n",
        "# Dictionary unpacking in function call\n",
        "def display_info(**kwargs):\n",
        "    for key, value in kwargs.items():\n",
        "        print(f\"{key}: {value}\")\n",
        "\n",
        "info = {\"name\": \"Hanan\", \"age\": 22}\n",
        "display_info(**info)\n",
        "\n"
      ]
    },
    {
      "cell_type": "markdown",
      "id": "4b8004e3-b6dd-4780-834c-2763bb694c1d",
      "metadata": {
        "id": "4b8004e3-b6dd-4780-834c-2763bb694c1d"
      },
      "source": [
        "<h3><span style=\"color: blue;\"> implement project Example: Birthday Analysis Program</h3>"
      ]
    },
    {
      "cell_type": "code",
      "execution_count": null,
      "id": "504c356e-ef49-48d6-b23e-057b14750656",
      "metadata": {
        "id": "504c356e-ef49-48d6-b23e-057b14750656",
        "outputId": "731999d1-f211-42a5-86ce-8345ad63d15a"
      },
      "outputs": [
        {
          "name": "stdin",
          "output_type": "stream",
          "text": [
            "Enter name (or type 'done' to finish):  Hanan\n",
            "Enter birthdate (dd-mm-yyyy):  31-10-2001\n",
            "Enter name (or type 'done' to finish):  Amal\n",
            "Enter birthdate (dd-mm-yyyy):  20-3-2006\n",
            "Enter name (or type 'done' to finish):  done\n"
          ]
        },
        {
          "name": "stdout",
          "output_type": "stream",
          "text": [
            "Hanan is 22 years old and she/he was born on Wednesday\n",
            "Amal is 18 years old and she/he was born on Monday\n",
            "The oldest is Hanan\n",
            "The youngest is Amal\n",
            "Total people: 2\n",
            "People ranked by age:\n",
            "Hanan: 22 years old\n",
            "Amal: 18 years old\n",
            "Reversed input:\n",
            "Amal, 20-3-2006\n",
            "Hanan, 31-10-2001\n"
          ]
        }
      ],
      "source": [
        "from datetime import datetime\n",
        "from dateutil.relativedelta import relativedelta\n",
        "from datetime import date\n",
        "# Function to calculate age and day of birth\n",
        "def calculate_age_and_day_of_birth(birthdate_str):\n",
        "    try:\n",
        "        # Convert string to datetime object\n",
        "        birthdate = datetime.strptime(birthdate_str, \"%d-%m-%Y\")\n",
        "\n",
        "        current_date =date.today()\n",
        "        # Calculate the age\n",
        "        age = relativedelta(current_date, birthdate).years\n",
        "        # Get the day of the week\n",
        "        day_of_birth = birthdate.strftime(\"%A\")\n",
        "        return age, day_of_birth\n",
        "    except ValueError:\n",
        "        # Return None if date is invalid\n",
        "        return None, None\n",
        "\n",
        "# Function to print details of a person\n",
        "def print_person_details(name, birthdate_str):\n",
        "    # Calculate age and day of birth\n",
        "    age, day_of_birth = calculate_age_and_day_of_birth(birthdate_str)\n",
        "    if age is not None:\n",
        "        # Print valid details\n",
        "        print(f\"{name} is {age} years old and she/he was born on {day_of_birth}\")\n",
        "        return age\n",
        "    else:\n",
        "        # Print error for invalid date\n",
        "        print(f\"Invalid date for {name}\")\n",
        "        return None\n",
        "\n",
        "# Main function\n",
        "def main():\n",
        "    # List to store people with their names and birthdates\n",
        "    people = []\n",
        "\n",
        "    # Prompt user to enter data\n",
        "    while True:\n",
        "        name = input(\"Enter name (or type 'done' to finish): \")\n",
        "        if name.lower() == 'done':\n",
        "            break\n",
        "        birthdate = input(\"Enter birthdate (dd-mm-yyyy): \")\n",
        "        people.append((name, birthdate))\n",
        "\n",
        "    ages = {}  # Dictionary to store ages\n",
        "    total_people = 0  # Counter for total valid people\n",
        "\n",
        "    # Process each person\n",
        "    for name, birthdate in people:\n",
        "        # Print details and get age\n",
        "        age = print_person_details(name, birthdate)\n",
        "        if age is not None:\n",
        "            # Store age in dictionary if valid\n",
        "            ages[name] = age\n",
        "            total_people += 1  # Increment total people count\n",
        "\n",
        "    # Determine and print oldest and youngest if more than one valid person\n",
        "    if total_people > 1:\n",
        "        oldest_person = max(ages, key=ages.get)\n",
        "        youngest_person = min(ages, key=ages.get)\n",
        "        print(f\"The oldest is {oldest_person}\")\n",
        "        print(f\"The youngest is {youngest_person}\")\n",
        "    else:\n",
        "        # Print message if not enough people to compare\n",
        "        print(\"No oldest or youngest person\")\n",
        "\n",
        "    # Print total number of valid people\n",
        "    print(f\"Total people: {total_people}\")\n",
        "\n",
        "    # Additional tasks\n",
        "    # Rank people by age and print results\n",
        "    ranked_people = sorted(ages.items(), key=lambda x: x[1], reverse=True)\n",
        "    print(\"People ranked by age:\")\n",
        "    for name, age in ranked_people:\n",
        "        print(f\"{name}: {age} years old\")\n",
        "\n",
        "    # Print input in reverse order\n",
        "    print(\"Reversed input:\")\n",
        "    for name, birthdate in reversed(people):\n",
        "        print(f\"{name}, {birthdate}\")\n",
        "\n",
        "\n",
        "# Entry point of the program\n",
        "if __name__ == \"__main__\":\n",
        "    main()\n"
      ]
    },
    {
      "cell_type": "code",
      "execution_count": null,
      "id": "92b34734-47d8-4fb8-9fa7-493241ff9b32",
      "metadata": {
        "id": "92b34734-47d8-4fb8-9fa7-493241ff9b32"
      },
      "outputs": [],
      "source": []
    }
  ],
  "metadata": {
    "kernelspec": {
      "display_name": "Python 3 (ipykernel)",
      "language": "python",
      "name": "python3"
    },
    "language_info": {
      "codemirror_mode": {
        "name": "ipython",
        "version": 3
      },
      "file_extension": ".py",
      "mimetype": "text/x-python",
      "name": "python",
      "nbconvert_exporter": "python",
      "pygments_lexer": "ipython3",
      "version": "3.11.7"
    },
    "colab": {
      "provenance": [],
      "include_colab_link": true
    }
  },
  "nbformat": 4,
  "nbformat_minor": 5
}