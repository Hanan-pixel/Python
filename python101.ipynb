{
  "cells": [
    {
      "cell_type": "markdown",
      "metadata": {
        "id": "view-in-github",
        "colab_type": "text"
      },
      "source": [
        "<a href=\"https://colab.research.google.com/github/Hanan-pixel/Python/blob/main/python101.ipynb\" target=\"_parent\"><img src=\"https://colab.research.google.com/assets/colab-badge.svg\" alt=\"Open In Colab\"/></a>"
      ]
    },
    {
      "cell_type": "markdown",
      "id": "1deefc26-1471-44fd-af21-5d2f08ba82e5",
      "metadata": {
        "id": "1deefc26-1471-44fd-af21-5d2f08ba82e5"
      },
      "source": [
        "<div class=\"alert alert-block alert-danger\">\n",
        "  <h3> <span style=\"color: purple;\"> Python101 Concepts</h3>\n",
        "\n",
        "  <b>-Comments</b>\n",
        "\n",
        "  <b>-Variables</b>\n",
        "\n",
        "  <b>-Input and Outputs</b>\n",
        "\n",
        "  <b>-Data Types and Operators</b>\n",
        "\n",
        "  <b>-Advanced Data Types</b>\n",
        "\n",
        "  <b>-Conditionals</b>\n",
        "\n",
        "  <b>-Loops</b>\n",
        "\n",
        "  <b>-Functions</b>\n",
        "\n"
      ]
    },
    {
      "cell_type": "markdown",
      "id": "9c95a596-cc0f-495f-81d9-39dfaeb3abaf",
      "metadata": {
        "id": "9c95a596-cc0f-495f-81d9-39dfaeb3abaf"
      },
      "source": [
        "<div class=\"alert alert-block alert-info\">\n",
        "  <b>Comments</b>\n",
        "  <p>Definition: Comments are notes in the code for the programmer's reference, ignored by the interpreter.</p>\n",
        "</div>\n"
      ]
    },
    {
      "cell_type": "markdown",
      "id": "c311cc61-9345-44fc-b3ce-d0b7fbc45019",
      "metadata": {
        "id": "c311cc61-9345-44fc-b3ce-d0b7fbc45019"
      },
      "source": [
        "<p ><span style=\"color: purple;\"> Single-line Comment: Use # at the beginning of the comment </p>"
      ]
    },
    {
      "cell_type": "code",
      "execution_count": null,
      "id": "2d93adc5-3563-4d62-a557-706ba36567b6",
      "metadata": {
        "id": "2d93adc5-3563-4d62-a557-706ba36567b6"
      },
      "outputs": [],
      "source": [
        "# This is a single-line comment"
      ]
    },
    {
      "cell_type": "markdown",
      "id": "1c361f95-f80b-4b22-9147-f011f357c4ed",
      "metadata": {
        "id": "1c361f95-f80b-4b22-9147-f011f357c4ed"
      },
      "source": [
        "<p ><span style=\"color: purple;\"> Multi-line Comment: Use triple quotes (''' or \"\"\") to enclose the comment </p>"
      ]
    },
    {
      "cell_type": "code",
      "execution_count": null,
      "id": "43dd29aa-21cb-49bd-b5a5-d1009b219e99",
      "metadata": {
        "id": "43dd29aa-21cb-49bd-b5a5-d1009b219e99",
        "outputId": "994c4ffc-caa4-4cea-ff0d-1f2c7aca2691"
      },
      "outputs": [
        {
          "data": {
            "text/plain": [
              "'\\nThis is a\\nmulti-line comment\\n'"
            ]
          },
          "execution_count": 49,
          "metadata": {},
          "output_type": "execute_result"
        }
      ],
      "source": [
        "\"\"\"\n",
        "This is a\n",
        "multi-line comment\n",
        "\"\"\"\n"
      ]
    },
    {
      "cell_type": "markdown",
      "id": "06e749f8-f7d7-4ece-a286-febcc92b1d32",
      "metadata": {
        "id": "06e749f8-f7d7-4ece-a286-febcc92b1d32"
      },
      "source": [
        "<div class=\"alert alert-block alert-info\">\n",
        "  <b>Variables</b>\n",
        "  <p>Definition: Named entities used to store data values.</p>\n",
        "  <p ><span style=\"color: red;\">Example:</p>\n"
      ]
    },
    {
      "cell_type": "code",
      "execution_count": null,
      "id": "f434d61c-0bc8-4fc5-ac40-7068c0443877",
      "metadata": {
        "id": "f434d61c-0bc8-4fc5-ac40-7068c0443877",
        "outputId": "77ca2886-e8ed-46f0-9d24-8c146dd0913f"
      },
      "outputs": [
        {
          "name": "stdout",
          "output_type": "stream",
          "text": [
            "10\n"
          ]
        }
      ],
      "source": [
        "time = 10  # Variable assignment\n",
        "print(time)"
      ]
    },
    {
      "cell_type": "markdown",
      "id": "5f63a4b1-98f8-4f52-962c-322715b65c4d",
      "metadata": {
        "id": "5f63a4b1-98f8-4f52-962c-322715b65c4d"
      },
      "source": [
        "<div class=\"alert alert-block alert-info\">\n",
        "  <b>Inputs and Outputs</b>\n"
      ]
    },
    {
      "cell_type": "code",
      "execution_count": null,
      "id": "1a58dc29-dbd4-462b-9c9f-9a05d47cb9b8",
      "metadata": {
        "id": "1a58dc29-dbd4-462b-9c9f-9a05d47cb9b8",
        "outputId": "6cd918a2-8d5b-482e-df1c-e017e937955d"
      },
      "outputs": [
        {
          "name": "stdin",
          "output_type": "stream",
          "text": [
            "Enter your name:  Hanan\n"
          ]
        }
      ],
      "source": [
        "name = input(\"Enter your name: \")  # Taking input from the user\n"
      ]
    },
    {
      "cell_type": "code",
      "execution_count": null,
      "id": "73af5074-bb64-4c40-ba31-64fbf74b33ce",
      "metadata": {
        "id": "73af5074-bb64-4c40-ba31-64fbf74b33ce",
        "outputId": "688afd6e-abd1-4eba-866f-6925046c24da"
      },
      "outputs": [
        {
          "name": "stdout",
          "output_type": "stream",
          "text": [
            "Hello, Hanan\n"
          ]
        }
      ],
      "source": [
        "print(\"Hello, \" + name)  # Outputting data to the user\n"
      ]
    },
    {
      "cell_type": "markdown",
      "id": "973a6e76-f06a-4066-9af5-17181bb857ff",
      "metadata": {
        "id": "973a6e76-f06a-4066-9af5-17181bb857ff"
      },
      "source": [
        "<div class=\"alert alert-block alert-success\">\n",
        "  <b>Data Types and Operators</b>\n",
        "  <p>Common Data Types:</p>\n",
        "  <ul>\n",
        "    <li><b>Integers</b>: Whole numbers (e.g., 1, 2, 3)</li>\n",
        "    <li><b>Floats</b>: Decimal numbers (e.g., 1.1, 2.2, 3.3)</li>\n",
        "    <li><b>Strings</b>: Text data (e.g., \"Hello\")</li>\n",
        "    <li><b>Booleans</b>: True or False values</li>\n",
        "  </ul>\n",
        "  <p>Operators: Symbols used to perform operations on variables and values.</p>\n",
        "  <ul>\n",
        "    <li><b>Arithmetic Operators</b>: +, -, *, /, %</li>\n",
        "    <li><b>Comparison Operators</b>: ==, !=, >, <, >=, <=</li>\n",
        "    <li><b>Logical Operators</b>: and, or, not</li>\n",
        "  </ul>\n",
        "</div>\n"
      ]
    },
    {
      "cell_type": "markdown",
      "id": "690a25b8-c0fa-4457-af6f-d68d83492d0e",
      "metadata": {
        "id": "690a25b8-c0fa-4457-af6f-d68d83492d0e"
      },
      "source": [
        "<div class=\"alert alert-block alert-info\">\n",
        "  <b>Advanced Data Types</b>"
      ]
    },
    {
      "cell_type": "code",
      "execution_count": null,
      "id": "164e456c-760e-4079-bb28-98072794317f",
      "metadata": {
        "id": "164e456c-760e-4079-bb28-98072794317f",
        "outputId": "22da671b-3ad3-49e6-8bb7-ee12e17c451b"
      },
      "outputs": [
        {
          "name": "stdout",
          "output_type": "stream",
          "text": [
            "[1, 2, 3, 4, 5]\n"
          ]
        }
      ],
      "source": [
        " #Lists: Ordered collections of items\n",
        "\n",
        "my_list = [1, 2, 3, 4, 5]\n",
        "print(my_list)\n"
      ]
    },
    {
      "cell_type": "code",
      "execution_count": null,
      "id": "c443e5b1-1403-4dc3-9d80-234a06fc174d",
      "metadata": {
        "id": "c443e5b1-1403-4dc3-9d80-234a06fc174d",
        "outputId": "0fc4c7eb-ed51-488a-f0f1-00b8a5558afb"
      },
      "outputs": [
        {
          "name": "stdout",
          "output_type": "stream",
          "text": [
            "(1, 2, 3, 4, 5)\n"
          ]
        }
      ],
      "source": [
        "#Tuples: Immutable ordered collections of items\n",
        "\n",
        "my_tuple = (1, 2, 3, 4, 5)\n",
        "print(my_tuple)"
      ]
    },
    {
      "cell_type": "code",
      "execution_count": null,
      "id": "1b1a913d-e1fa-46bc-a07f-d968ae2d0940",
      "metadata": {
        "id": "1b1a913d-e1fa-46bc-a07f-d968ae2d0940",
        "outputId": "3e76f00d-6b1c-4216-f106-c1e5730c83c0"
      },
      "outputs": [
        {
          "name": "stdout",
          "output_type": "stream",
          "text": [
            "{'name': 'Hanan', 'age': 25}\n"
          ]
        }
      ],
      "source": [
        "#Dictionaries: Collections of key-value pairs.\n",
        "\n",
        "my_dict = {\"name\": \"Hanan\", \"age\": 25}\n",
        "print(my_dict)"
      ]
    },
    {
      "cell_type": "code",
      "execution_count": null,
      "id": "f548e280-7c06-4c3d-a95a-dbe9d319d102",
      "metadata": {
        "id": "f548e280-7c06-4c3d-a95a-dbe9d319d102",
        "outputId": "ef5e6301-236e-4ae6-95ef-249d32267d02"
      },
      "outputs": [
        {
          "name": "stdout",
          "output_type": "stream",
          "text": [
            "{1, 2, 3, 4, 5}\n"
          ]
        }
      ],
      "source": [
        "#Sets: Unordered collections of unique items.\n",
        "\n",
        "my_set = {1, 2, 3, 4, 5}\n",
        "print(my_set)"
      ]
    },
    {
      "cell_type": "markdown",
      "id": "17783a8f-7cd0-4a07-8ef7-9f3e394810f4",
      "metadata": {
        "id": "17783a8f-7cd0-4a07-8ef7-9f3e394810f4"
      },
      "source": [
        "<div class=\"alert alert-block alert-info\">\n",
        "  <b>Conditionals</b>\n",
        "  <p><b>Terms</b>: Used to execute code based on certain conditions.</p>\n",
        "  <pre><code> <span style=\"color: purple;\">\n",
        "if condition:\n",
        "    # Code to execute if condition is True\n",
        "elif another_condition:\n",
        "    # Code to execute if another_condition is True\n",
        "else:\n",
        "    # Code to execute if none of the conditions are True\n",
        "  </code></pre>\n",
        "</div>\n",
        "\n"
      ]
    },
    {
      "cell_type": "code",
      "execution_count": null,
      "id": "52ea4806-6fab-495e-a8c4-362dbd8bb2cb",
      "metadata": {
        "id": "52ea4806-6fab-495e-a8c4-362dbd8bb2cb",
        "outputId": "e22d8cdc-a1fe-4399-aea1-77e0e22e5a11"
      },
      "outputs": [
        {
          "name": "stdout",
          "output_type": "stream",
          "text": [
            "Grade: A\n"
          ]
        }
      ],
      "source": [
        "#Example\n",
        "# Assign a value to the variable 'marks'\n",
        "marks = 90\n",
        "\n",
        "# Check the conditions using if, elif, and else statements\n",
        "if marks >= 90:\n",
        "    print(\"Grade: A\")\n",
        "elif marks >= 75:\n",
        "    print(\"Grade: B\")\n",
        "elif marks >= 60:\n",
        "    print(\"Grade: C\")\n",
        "elif marks >= 40:\n",
        "    print(\"Grade: D\")\n",
        "else:\n",
        "    print(\"Grade: F\")\n"
      ]
    },
    {
      "cell_type": "markdown",
      "id": "a4db0681-6088-4e8c-8138-7edd11fd4649",
      "metadata": {
        "id": "a4db0681-6088-4e8c-8138-7edd11fd4649"
      },
      "source": [
        "<div class=\"alert alert-block alert-info\">\n",
        "  <b>Loops</b>\n",
        "  <p><b>Repetition</b>: Used to execute a block of code multiple times.</p>"
      ]
    },
    {
      "cell_type": "code",
      "execution_count": null,
      "id": "be5743d5-6ff0-430c-936b-0a19a2d3e3b0",
      "metadata": {
        "id": "be5743d5-6ff0-430c-936b-0a19a2d3e3b0",
        "outputId": "07afaccb-6c3d-40d6-86d7-639e299f51d5"
      },
      "outputs": [
        {
          "name": "stdout",
          "output_type": "stream",
          "text": [
            "0\n",
            "1\n",
            "2\n",
            "3\n",
            "4\n"
          ]
        }
      ],
      "source": [
        "#While Loop:\n",
        "\n",
        "i = 0\n",
        "while i < 5:\n",
        "    print(i)\n",
        "    i += 1\n"
      ]
    },
    {
      "cell_type": "code",
      "execution_count": null,
      "id": "e54793b6-b278-4b1e-be60-6d0f525b94a6",
      "metadata": {
        "id": "e54793b6-b278-4b1e-be60-6d0f525b94a6",
        "outputId": "8625af2e-fd9d-4fbd-cd47-d8ff8329fbdd"
      },
      "outputs": [
        {
          "name": "stdout",
          "output_type": "stream",
          "text": [
            "0\n",
            "1\n",
            "2\n",
            "3\n",
            "4\n"
          ]
        }
      ],
      "source": [
        "#For Loop:\n",
        "\n",
        "for i in range(5):\n",
        "    print(i)"
      ]
    },
    {
      "cell_type": "markdown",
      "id": "af9cb1f8-898d-48c7-94ae-b2e19ae7e1f6",
      "metadata": {
        "id": "af9cb1f8-898d-48c7-94ae-b2e19ae7e1f6"
      },
      "source": [
        "<div class=\"alert alert-block alert-info\">\n",
        "  <b>Functions</b>\n",
        "  <p><b>Definition</b>: Blocks of reusable code that perform a specific task.</p>\n",
        "  <pre><code> <span style=\"color: purple;\">\n",
        "def function_name(parameters):\n",
        "    # Code to execute\n",
        "    return result\n",
        "  </code></pre>\n",
        "</div>\n"
      ]
    },
    {
      "cell_type": "code",
      "execution_count": null,
      "id": "728ba406-5980-4ffb-a769-66cd9159d6ea",
      "metadata": {
        "id": "728ba406-5980-4ffb-a769-66cd9159d6ea",
        "outputId": "12e94bf2-f74e-4e66-8ba8-3844b5675177"
      },
      "outputs": [
        {
          "name": "stdout",
          "output_type": "stream",
          "text": [
            "Hello, Hanan\n"
          ]
        }
      ],
      "source": [
        "#Example\n",
        "def greet(name):\n",
        "    return \"Hello, \" + name\n",
        "\n",
        "print(greet(\"Hanan\"))"
      ]
    },
    {
      "cell_type": "markdown",
      "id": "0c13c53a-e57f-4f06-a3d0-f8b503faae6f",
      "metadata": {
        "id": "0c13c53a-e57f-4f06-a3d0-f8b503faae6f"
      },
      "source": [
        "<h3><span style=\"color: blue;\"> implement project Example:the phone book</h3>"
      ]
    },
    {
      "cell_type": "code",
      "execution_count": null,
      "id": "c1e54a04-7335-4fd0-a9f5-a5524d166a06",
      "metadata": {
        "id": "c1e54a04-7335-4fd0-a9f5-a5524d166a06"
      },
      "outputs": [],
      "source": [
        "def create_phone_book():\n",
        "    # Initialize the phone book dictionary with predefined contacts\n",
        "    phone_book = {\n",
        "        \"Hope\": {\"number\": \"1111111111\"},\n",
        "        \"Muhammad\": {\"number\": \"2222222222\"},\n",
        "        \"Khadija\": {\"number\": \"3333333333\"},\n",
        "        \"Abdullah\": {\"number\": \"4444444444\"},\n",
        "        \"Rowan\": {\"number\": \"5555555555\"},\n",
        "        \"Faisal\": {\"number\": \"6666666666\"},\n",
        "        \"Laila\": {\"number\": \"7777777777\"}\n",
        "    }\n",
        "    return phone_book\n",
        "\n",
        "def search_contact(phone_book, query):\n",
        "    # Search for contact by name or number\n",
        "    for name, contact_info in phone_book.items():\n",
        "        # Check if the name matches or if the number matches\n",
        "        if name.lower() == query.lower() or contact_info[\"number\"] == query:\n",
        "            return name, contact_info[\"number\"]  # Return name and number if found\n",
        "    return None, None  # Return None if contact not found\n",
        "\n",
        "def add_contact(phone_book, name, number):\n",
        "    # Add a new contact to the phone book\n",
        "    if not (number.isdigit() and len(number) == 10):\n",
        "        # Validate number format: must be exactly 10 digits and only digits\n",
        "        print(\"Invalid number format. Please enter a 10-digit number.\")\n",
        "        return\n",
        "\n",
        "    # Add new contact to the phone book dictionary\n",
        "    phone_book[name] = {\"number\": number}\n",
        "    print(f\"Contact '{name}' with number '{number}' added successfully.\")\n",
        "\n",
        "def main():\n",
        "    # Initialize the phone book\n",
        "    phone_book = create_phone_book()\n",
        "\n",
        "    while True:\n",
        "        print(\"\\nWelcome to the Phone Book Program!\")\n",
        "        print(\"1. Search by name or number\")\n",
        "        print(\"2. Add a new contact\")\n",
        "        print(\"3. Exit\")\n",
        "\n",
        "        choice = input(\"Enter your choice (1/2/3): \")\n",
        "\n",
        "        if choice == \"1\":\n",
        "            # Option 1: Search for a contact\n",
        "            query = input(\"Enter name or number to search: \")\n",
        "            name, number = search_contact(phone_book, query)\n",
        "            if name:\n",
        "                print(f\"Contact found - Name: {name}, Number: {number}\")\n",
        "            else:\n",
        "                print(\"Sorry, the contact was not found.\")\n",
        "\n",
        "        elif choice == \"2\":\n",
        "            # Option 2: Add a new contact\n",
        "            name = input(\"Enter the name of the new contact: \")\n",
        "            number = input(\"Enter the number of the new contact: \")\n",
        "            add_contact(phone_book, name, number)\n",
        "\n",
        "        elif choice == \"3\":\n",
        "            # Option 3: Exit the program\n",
        "            print(\"Exiting Phone Book Program. Goodbye!\")\n",
        "            break\n",
        "\n",
        "        else:\n",
        "            # Invalid choice\n",
        "            print(\"Invalid choice. Please enter 1, 2, or 3.\")\n",
        "\n",
        "# Check if the script is being run directly by the Python interpreter\n",
        "if __name__ == \"__main__\":\n",
        "    # If true, execute the following code block\n",
        "    # This typically contains the main program logic\n",
        "    main()"
      ]
    }
  ],
  "metadata": {
    "kernelspec": {
      "display_name": "Python 3 (ipykernel)",
      "language": "python",
      "name": "python3"
    },
    "language_info": {
      "codemirror_mode": {
        "name": "ipython",
        "version": 3
      },
      "file_extension": ".py",
      "mimetype": "text/x-python",
      "name": "python",
      "nbconvert_exporter": "python",
      "pygments_lexer": "ipython3",
      "version": "3.11.7"
    },
    "colab": {
      "provenance": [],
      "include_colab_link": true
    }
  },
  "nbformat": 4,
  "nbformat_minor": 5
}